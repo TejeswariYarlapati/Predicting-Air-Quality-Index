{
  "nbformat": 4,
  "nbformat_minor": 0,
  "metadata": {
    "colab": {
      "provenance": []
    },
    "kernelspec": {
      "name": "python3",
      "display_name": "Python 3"
    },
    "language_info": {
      "name": "python"
    }
  },
  "cells": [
    {
      "cell_type": "code",
      "execution_count": null,
      "metadata": {
        "id": "NVfdNNE79zyI"
      },
      "outputs": [],
      "source": [
        "# Import necessary libraries\n",
        "import requests\n",
        "from datetime import datetime\n",
        "import pandas as pd\n",
        "\n",
        "# Define API endpoint and parameters\n",
        "api_url = \"https://api.weather.com/your_api_endpoint\"\n",
        "api_key = \"your_api_key\"\n",
        "city = \"your_city\"\n",
        "start_date = \"yyyy-mm-dd\"\n",
        "end_date = \"yyyy-mm-dd\"\n",
        "\n",
        "# Make API request to fetch raw data\n",
        "response = requests.get(api_url, params={\"api_key\": api_key, \"city\": city, \"start_date\": start_date, \"end_date\": end_date})\n",
        "raw_data = response.json()\n",
        "\n",
        "# Process raw data and compute features\n",
        "features = []\n",
        "targets = []\n",
        "for data_point in raw_data:\n",
        "    # Extract relevant information and compute features/targets\n",
        "    feature = data_point[\"feature\"]\n",
        "    target = data_point[\"target\"]\n",
        "    features.append(feature)\n",
        "    targets.append(target)\n",
        "\n",
        "# Store features in the Feature Store\n",
        "df_features = pd.DataFrame(features)  # Convert features list to a DataFrame\n",
        "df_targets = pd.DataFrame(targets)  # Convert targets list to a DataFrame\n",
        "df_features.to_csv(\"feature_store.csv\", index=False)\n",
        "df_targets.to_csv(\"target_store.csv\", index=False)\n"
      ]
    },
    {
      "cell_type": "code",
      "source": [
        "# Iterate over a range of past dates\n",
        "for date in date_range:\n",
        "    # Call the feature generation script for each date\n",
        "    # This can be done by encapsulating the code in a function and calling it in a loop\n",
        "    generate_features_and_targets(date)\n"
      ],
      "metadata": {
        "id": "YXdzfC0B-EjL"
      },
      "execution_count": null,
      "outputs": []
    },
    {
      "cell_type": "code",
      "source": [
        "# Import necessary libraries\n",
        "from sklearn.model_selection import train_test_split\n",
        "from sklearn.ensemble import RandomForestRegressor\n",
        "from sklearn.metrics import mean_squared_error\n",
        "import joblib\n",
        "\n",
        "# Load features and targets from the Feature Store\n",
        "df_features = pd.read_csv(\"feature_store.csv\")\n",
        "df_targets = pd.read_csv(\"target_store.csv\")\n",
        "\n",
        "# Split the data into training and testing sets\n",
        "X_train, X_test, y_train, y_test = train_test_split(df_features, df_targets, test_size=0.2, random_state=42)\n",
        "\n",
        "# Train the ML model\n",
        "model = RandomForestRegressor()\n",
        "model.fit(X_train, y_train)\n",
        "\n",
        "# Evaluate the model\n",
        "y_pred = model.predict(X_test)\n",
        "mse = mean_squared_error(y_test, y_pred)\n",
        "\n",
        "# Store the trained model in the Model Registry\n",
        "joblib.dump(model, \"aqi_prediction_model.pkl\")\n"
      ],
      "metadata": {
        "id": "CFEToa9G-FIk"
      },
      "execution_count": null,
      "outputs": []
    },
    {
      "cell_type": "code",
      "source": [],
      "metadata": {
        "id": "b1H1loRw-KZ2"
      },
      "execution_count": null,
      "outputs": []
    },
    {
      "cell_type": "code",
      "source": [
        "name: Feature Generation\n",
        "on:\n",
        "  schedule:\n",
        "    - cron: \"0 * * * *\"\n",
        "\n",
        "jobs:\n",
        "  feature_generation:\n",
        "    runs-on: ubuntu-latest\n",
        "    steps:\n",
        "      - name: Set up Python\n",
        "        uses: actions/setup-python@v2\n",
        "        with:\n",
        "          python-version: \"3.x\"\n",
        "\n",
        "      - name: Checkout code\n",
        "        uses: actions/checkout@v2\n",
        "\n",
        "      - name: Install dependencies\n",
        "        run: pip install -r requirements.txt\n",
        "\n",
        "      - name: Run feature script\n",
        "        run: python feature_generation_script.py\n"
      ],
      "metadata": {
        "id": "h_NsQonf-KXy"
      },
      "execution_count": null,
      "outputs": []
    },
    {
      "cell_type": "code",
      "source": [
        "import streamlit as st\n",
        "\n",
        "# Load the trained model and features from the Feature Store\n",
        "model = joblib.load(\"aqi_prediction_model.pkl\")\n",
        "df_features = pd.read_csv(\"feature_store.csv\")\n",
        "\n",
        "# Create a UI using Streamlit\n",
        "st.title(\"AQI Prediction Web App\")\n",
        "\n",
        "# Get user input for prediction\n",
        "user_input = get_user_input()  # Implement a function to get user input\n",
        "\n",
        "# Compute prediction using the loaded model\n",
        "prediction = model.predict(user_input)\n",
        "\n",
        "# Display the prediction\n",
        "st.write(f\"The predicted AQI is: {prediction}\")\n"
      ],
      "metadata": {
        "id": "UiHm9nyi-KUn"
      },
      "execution_count": null,
      "outputs": []
    },
    {
      "cell_type": "code",
      "source": [],
      "metadata": {
        "id": "agteOuWd-KSb"
      },
      "execution_count": null,
      "outputs": []
    },
    {
      "cell_type": "code",
      "source": [],
      "metadata": {
        "id": "8w8UigKJ-KOX"
      },
      "execution_count": null,
      "outputs": []
    },
    {
      "cell_type": "code",
      "source": [],
      "metadata": {
        "id": "tFFudXE3-KMV"
      },
      "execution_count": null,
      "outputs": []
    },
    {
      "cell_type": "code",
      "source": [],
      "metadata": {
        "id": "LjYhdIob-KJ9"
      },
      "execution_count": null,
      "outputs": []
    },
    {
      "cell_type": "code",
      "source": [],
      "metadata": {
        "id": "3zeFAgWk-KGr"
      },
      "execution_count": null,
      "outputs": []
    },
    {
      "cell_type": "code",
      "source": [],
      "metadata": {
        "id": "MgmSJUz1-KC3"
      },
      "execution_count": null,
      "outputs": []
    },
    {
      "cell_type": "code",
      "source": [],
      "metadata": {
        "id": "8nLVK_m4-KA2"
      },
      "execution_count": null,
      "outputs": []
    },
    {
      "cell_type": "code",
      "source": [],
      "metadata": {
        "id": "mGNkY_Ic-J9c"
      },
      "execution_count": null,
      "outputs": []
    },
    {
      "cell_type": "code",
      "source": [],
      "metadata": {
        "id": "2hK4ofgm-J64"
      },
      "execution_count": null,
      "outputs": []
    },
    {
      "cell_type": "code",
      "source": [],
      "metadata": {
        "id": "0Ne-rzvQ-J3X"
      },
      "execution_count": null,
      "outputs": []
    },
    {
      "cell_type": "code",
      "source": [],
      "metadata": {
        "id": "Ge0RpqLM-J1K"
      },
      "execution_count": null,
      "outputs": []
    },
    {
      "cell_type": "code",
      "source": [],
      "metadata": {
        "id": "Jn3SMpUW-JxK"
      },
      "execution_count": null,
      "outputs": []
    },
    {
      "cell_type": "code",
      "source": [],
      "metadata": {
        "id": "HbToL8d_-JvL"
      },
      "execution_count": null,
      "outputs": []
    }
  ]
}